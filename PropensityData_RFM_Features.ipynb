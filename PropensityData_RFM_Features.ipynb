{
  "cells": [
    {
      "cell_type": "markdown",
      "metadata": {},
      "source": [
        "### Loading the Data"
      ]
    },
    {
      "cell_type": "code",
      "execution_count": 1,
      "metadata": {
        "id": "9Q1htkHsk2QX"
      },
      "outputs": [],
      "source": [
        "# importing the necessary Libraries\n",
        "import pandas as pd\n",
        "import numpy as np\n",
        "pd.set_option('display.max_rows',500)\n",
        "pd.set_option('display.max_columns', 500)\n",
        "\n",
        "import matplotlib.pyplot as plt\n",
        "import seaborn as sns\n",
        "\n",
        "sns.set()\n",
        "\n",
        "from datetime import timedelta\n",
        "\n",
        "import warnings\n",
        "warnings.filterwarnings('ignore')\n"
      ]
    },
    {
      "cell_type": "code",
      "execution_count": 5,
      "metadata": {},
      "outputs": [
        {
          "name": "stdout",
          "output_type": "stream",
          "text": [
            "(2090, 9)\n"
          ]
        },
        {
          "data": {
            "text/html": [
              "<div>\n",
              "<style scoped>\n",
              "    .dataframe tbody tr th:only-of-type {\n",
              "        vertical-align: middle;\n",
              "    }\n",
              "\n",
              "    .dataframe tbody tr th {\n",
              "        vertical-align: top;\n",
              "    }\n",
              "\n",
              "    .dataframe thead th {\n",
              "        text-align: right;\n",
              "    }\n",
              "</style>\n",
              "<table border=\"1\" class=\"dataframe\">\n",
              "  <thead>\n",
              "    <tr style=\"text-align: right;\">\n",
              "      <th></th>\n",
              "      <th>User_id</th>\n",
              "      <th>Session_id</th>\n",
              "      <th>DateTime</th>\n",
              "      <th>Category</th>\n",
              "      <th>SubCategory</th>\n",
              "      <th>Action</th>\n",
              "      <th>Quantity</th>\n",
              "      <th>Rate</th>\n",
              "      <th>Total Price</th>\n",
              "    </tr>\n",
              "  </thead>\n",
              "  <tbody>\n",
              "    <tr>\n",
              "      <th>0</th>\n",
              "      <td>52243841613</td>\n",
              "      <td>d76fde-8bb3-4e00-8c23</td>\n",
              "      <td>2019-01-10 10:20:00</td>\n",
              "      <td>Electronic Appliances</td>\n",
              "      <td>Speakers</td>\n",
              "      <td>first_app_open</td>\n",
              "      <td>NaN</td>\n",
              "      <td>NaN</td>\n",
              "      <td>NaN</td>\n",
              "    </tr>\n",
              "    <tr>\n",
              "      <th>1</th>\n",
              "      <td>52243841613</td>\n",
              "      <td>33dfbd-b87a-4708-9857</td>\n",
              "      <td>2019-01-10 10:22:00</td>\n",
              "      <td>Electronic Appliances</td>\n",
              "      <td>Speakers</td>\n",
              "      <td>search</td>\n",
              "      <td>NaN</td>\n",
              "      <td>NaN</td>\n",
              "      <td>NaN</td>\n",
              "    </tr>\n",
              "    <tr>\n",
              "      <th>2</th>\n",
              "      <td>57314161118</td>\n",
              "      <td>6511c2-e2e3-422b-b695</td>\n",
              "      <td>2019-01-10 14:00:00</td>\n",
              "      <td>Men's Fashion</td>\n",
              "      <td>Jeans</td>\n",
              "      <td>search</td>\n",
              "      <td>NaN</td>\n",
              "      <td>NaN</td>\n",
              "      <td>NaN</td>\n",
              "    </tr>\n",
              "    <tr>\n",
              "      <th>3</th>\n",
              "      <td>57314161118</td>\n",
              "      <td>90fc70-0e80-4590-96f3</td>\n",
              "      <td>2019-01-10 14:07:00</td>\n",
              "      <td>Men's Fashion</td>\n",
              "      <td>Jeans</td>\n",
              "      <td>product_view</td>\n",
              "      <td>NaN</td>\n",
              "      <td>NaN</td>\n",
              "      <td>NaN</td>\n",
              "    </tr>\n",
              "    <tr>\n",
              "      <th>4</th>\n",
              "      <td>57314161118</td>\n",
              "      <td>bd7419-2748-4c56-95b4</td>\n",
              "      <td>2019-01-10 14:12:00</td>\n",
              "      <td>Men's Fashion</td>\n",
              "      <td>Jeans</td>\n",
              "      <td>read_reviews</td>\n",
              "      <td>NaN</td>\n",
              "      <td>NaN</td>\n",
              "      <td>NaN</td>\n",
              "    </tr>\n",
              "  </tbody>\n",
              "</table>\n",
              "</div>"
            ],
            "text/plain": [
              "       User_id             Session_id            DateTime   \n",
              "0  52243841613  d76fde-8bb3-4e00-8c23 2019-01-10 10:20:00  \\\n",
              "1  52243841613  33dfbd-b87a-4708-9857 2019-01-10 10:22:00   \n",
              "2  57314161118  6511c2-e2e3-422b-b695 2019-01-10 14:00:00   \n",
              "3  57314161118  90fc70-0e80-4590-96f3 2019-01-10 14:07:00   \n",
              "4  57314161118  bd7419-2748-4c56-95b4 2019-01-10 14:12:00   \n",
              "\n",
              "                Category SubCategory          Action  Quantity  Rate   \n",
              "0  Electronic Appliances    Speakers  first_app_open       NaN   NaN  \\\n",
              "1  Electronic Appliances    Speakers          search       NaN   NaN   \n",
              "2          Men's Fashion       Jeans          search       NaN   NaN   \n",
              "3          Men's Fashion       Jeans    product_view       NaN   NaN   \n",
              "4          Men's Fashion       Jeans    read_reviews       NaN   NaN   \n",
              "\n",
              "   Total Price  \n",
              "0          NaN  \n",
              "1          NaN  \n",
              "2          NaN  \n",
              "3          NaN  \n",
              "4          NaN  "
            ]
          },
          "execution_count": 5,
          "metadata": {},
          "output_type": "execute_result"
        }
      ],
      "source": [
        "# Reading the data and changing the data type of the column \"DateTime\" from string to datetime format\n",
        "data = pd.read_excel('/Users/pradipwasre/Desktop/Project/data 2/final_customer_data.xlsx')\n",
        "data['DateTime'] = pd.to_datetime(data['DateTime'])\n",
        "print(data.shape)\n",
        "data.head()"
      ]
    },
    {
      "cell_type": "code",
      "execution_count": 6,
      "metadata": {},
      "outputs": [
        {
          "name": "stdout",
          "output_type": "stream",
          "text": [
            "<class 'pandas.core.frame.DataFrame'>\n",
            "RangeIndex: 2090 entries, 0 to 2089\n",
            "Data columns (total 9 columns):\n",
            " #   Column       Non-Null Count  Dtype         \n",
            "---  ------       --------------  -----         \n",
            " 0   User_id      2090 non-null   int64         \n",
            " 1   Session_id   2090 non-null   object        \n",
            " 2   DateTime     2090 non-null   datetime64[ns]\n",
            " 3   Category     2090 non-null   object        \n",
            " 4   SubCategory  2090 non-null   object        \n",
            " 5   Action       2090 non-null   object        \n",
            " 6   Quantity     201 non-null    float64       \n",
            " 7   Rate         201 non-null    float64       \n",
            " 8   Total Price  201 non-null    float64       \n",
            "dtypes: datetime64[ns](1), float64(3), int64(1), object(4)\n",
            "memory usage: 147.1+ KB\n"
          ]
        }
      ],
      "source": [
        "data.info()"
      ]
    },
    {
      "cell_type": "markdown",
      "metadata": {},
      "source": [
        "### RFM Modelling\n",
        "\n",
        "To do the RFM analysis, we need to create 3 features from the data:\n",
        "* **Recency**   - Latest date - Last invoice date. (Number of days since the last purchase date)\n",
        "* **Frequency** - count of invoice numbers. (Total number of transactions made by a unique customer)\n",
        "* **Monetary**  - Sum of Total sales. (Total value of transacted sales by each customer)\n",
        "\n",
        "Now, let's create a function which can be used to generate the RFM features."
      ]
    },
    {
      "cell_type": "code",
      "execution_count": 9,
      "metadata": {},
      "outputs": [],
      "source": [
        "def RFM_features(df,CustomerID, invoiceDate, transID, sales):\n",
        "    ''' Create the Recency, Frequency, and Monetary features from the data '''\n",
        "    latest_data = df[invoiceDate].max() + timedelta(1)\n",
        "\n",
        "    # RFM feature creation\n",
        "    RFMScores = df.groupby(CustomerID).agg({invoiceDate: lambda x: (latest_date - x.max()).days,\n",
        "                                            transID: lambda x:len(x),\n",
        "                                            sales: lambda x: sum(x)})\n",
        "    # Converting invoice date to int since this contains number of days\n",
        "    RFMScores[invoiceDate] = RFMScores[invoiceDate].astype(int)\n",
        "\n",
        "    # Renaming column names to recency, frequency, and Monetary\n",
        "    RFMScores.rename(columns = {invoiceDate: 'Racncy',\n",
        "                                transID: 'Frequency',\n",
        "                                sales: 'Monetory'}, inplace = TRUE)\n",
        "    \n",
        "\n",
        "    return RFMScores.reset_index()"
      ]
    },
    {
      "cell_type": "code",
      "execution_count": null,
      "metadata": {},
      "outputs": [],
      "source": []
    }
  ],
  "metadata": {
    "colab": {
      "provenance": []
    },
    "kernelspec": {
      "display_name": "Python 3",
      "name": "python3"
    },
    "language_info": {
      "codemirror_mode": {
        "name": "ipython",
        "version": 3
      },
      "file_extension": ".py",
      "mimetype": "text/x-python",
      "name": "python",
      "nbconvert_exporter": "python",
      "pygments_lexer": "ipython3",
      "version": "3.10.4"
    }
  },
  "nbformat": 4,
  "nbformat_minor": 0
}
